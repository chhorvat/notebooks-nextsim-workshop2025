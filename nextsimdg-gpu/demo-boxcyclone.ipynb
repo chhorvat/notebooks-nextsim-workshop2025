{
 "cells": [
  {
   "cell_type": "code",
   "execution_count": null,
   "id": "e7e06293-0b8a-474a-8a2a-3b0688edbd77",
   "metadata": {
    "editable": true,
    "slideshow": {
     "slide_type": ""
    },
    "tags": []
   },
   "outputs": [],
   "source": [
    "# Basic imports\n",
    "import sys\n",
    "import numpy as np\n",
    "import xarray as xr\n",
    "import matplotlib.pyplot as plt\n",
    "\n",
    "#JUPYTER notebook magics\n",
    "%matplotlib inline "
   ]
  },
  {
   "cell_type": "code",
   "execution_count": null,
   "id": "7955ac53-a2fb-4db4-a5a4-43ef59c00340",
   "metadata": {},
   "outputs": [],
   "source": [
    "# Creates initial conditions for the Mehlmann et al. (2021) benchmark case, at 2, 4, 8, and 16 km resolutions.\n",
    "\n",
    "from math import sin\n",
    "sys.path.append('../../nextsimdg/run')\n",
    "from make_init_base import initMaker\n",
    "\n",
    "# Domain size [km]\n",
    "L = 512\n",
    "# grid spacing [km]\n",
    "for res in [8, 16]:\n",
    "\n",
    "    nfirst = int(L / res)\n",
    "    nsecond = int(L / res)\n",
    "    nLayers = 1\n",
    "\n",
    "    fname = f\"init_benchmark_{nfirst}x{nsecond}.nc\"\n",
    "\n",
    "    initializer = initMaker(fname, nfirst, nsecond, nLayers, res*1e3, checkZeros=False)\n",
    "    # The model expects everything in metres, while the benchmark problem in Mehlman et al. (2021) is defined in km.\n",
    "\n",
    "    # Ice everywhere and all boundaries closed\n",
    "    initializer.mask[:, :] = 1.\n",
    "    initializer.mask[0, :] = 0.\n",
    "    initializer.mask[-1, :] = 0.\n",
    "    initializer.mask[:, 0] = 0.\n",
    "    initializer.mask[:, -1] = 0.\n",
    "\n",
    "    # Uniform concentration of 100%\n",
    "    initializer.cice[:, :] = 1.\n",
    "\n",
    "    # Loop over ice thickness to construct the initial conditions. This should be a pattern of undulating ice.\n",
    "    for ix in range(nfirst):\n",
    "        x = ix * res\n",
    "        for iy in range(nsecond):\n",
    "            y = iy * res\n",
    "            initializer.hice[ix, iy] = 0.3 + 0.005 * (sin(60e-3 * x) + sin(30e-3 * y))\n",
    "\n",
    "    initializer.damage[:, :] = 1.\n",
    "\n",
    "    # All other variables are zero or not needed\n",
    "\n",
    "\"\"\"\n",
    "In a normal script, the file is written when initializer goes out of scope - but in \n",
    "Jupyter, we need to call __writeFile__ explicitly\n",
    "\"\"\"\n",
    "initializer.__writeFile__()"
   ]
  },
  {
   "cell_type": "code",
   "execution_count": null,
   "id": "4e92c0de-bcf5-4de1-8b04-d08a12f9ca95",
   "metadata": {
    "editable": true,
    "scrolled": true,
    "slideshow": {
     "slide_type": ""
    },
    "tags": []
   },
   "outputs": [],
   "source": [
    "%%bash\n",
    "\n",
    "# Run the  model with the benchmark config file\n",
    "time /home/nextsimdg/build/nextsim --config-file config_files/config_benchmark_32x32.cfg\n",
    "time /home/nextsimdg/build/nextsim --config-file config_files/config_benchmark_64x64.cfg"
   ]
  },
  {
   "cell_type": "code",
   "execution_count": null,
   "id": "a413fae0-ae62-4edf-ab14-3cc8ceea50c5",
   "metadata": {
    "editable": true,
    "slideshow": {
     "slide_type": ""
    },
    "tags": []
   },
   "outputs": [],
   "source": [
    "# Load the NetCDF output files\n",
    "data_32  = xr.open_dataset(\"benchmark_32x32.diagnostic.nc\", group=\"/data\")\n",
    "data_64 = xr.open_dataset(\"benchmark_64x64.diagnostic.nc\", group=\"/data\")\n",
    "#print(data_64)"
   ]
  },
  {
   "cell_type": "code",
   "execution_count": null,
   "id": "42eee892-1d98-493f-9c04-7f3017012d14",
   "metadata": {},
   "outputs": [],
   "source": [
    "# we pick the final time-step\n",
    "shear_32 = data_32['shear'][-1]\n",
    "shear_64 = data_64['shear'][-1]\n",
    "cice_32 = data_32['cice'][-1][:,:,-1]\n",
    "cice_64 = data_64['cice'][-1][:,:,-1]\n",
    "cice_min = min(np.min(cice_64), np.min(cice_32))\n",
    "cice_max = max(np.max(cice_64), np.max(cice_32))\n",
    "\n",
    "fig, axs = plt.subplots(2, 2)\n",
    "cs = axs[0][0].imshow(cice_32)\n",
    "cs = axs[1][0].imshow(shear_32)\n",
    "#fig.colorbar(cs)\n",
    "cs = axs[0][1].imshow(cice_64)\n",
    "cs = axs[1][1].imshow(shear_64)\n",
    "#fig.colorbar(cs)\n",
    "plt.show()"
   ]
  },
  {
   "cell_type": "code",
   "execution_count": null,
   "id": "e989b1f8",
   "metadata": {},
   "outputs": [],
   "source": [
    "data_32.close()\n",
    "data_64.close()"
   ]
  }
 ],
 "metadata": {
  "kernelspec": {
   "display_name": "python-stdenv",
   "language": "python",
   "name": "python3"
  },
  "language_info": {
   "codemirror_mode": {
    "name": "ipython",
    "version": 3
   },
   "file_extension": ".py",
   "mimetype": "text/x-python",
   "name": "python",
   "nbconvert_exporter": "python",
   "pygments_lexer": "ipython3",
   "version": "3.12.3"
  }
 },
 "nbformat": 4,
 "nbformat_minor": 5
}
