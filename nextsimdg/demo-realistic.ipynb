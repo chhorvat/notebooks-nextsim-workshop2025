{
 "cells": [
  {
   "cell_type": "code",
   "execution_count": 1,
   "id": "e7e06293-0b8a-474a-8a2a-3b0688edbd77",
   "metadata": {
    "editable": true,
    "slideshow": {
     "slide_type": ""
    },
    "tags": []
   },
   "outputs": [],
   "source": [
    "# Numpy\n",
    "import numpy as np\n",
    "\n",
    "# xarray\n",
    "import xarray as xr\n",
    "\n",
    "# matplotlib\n",
    "import matplotlib.pyplot as plt\n",
    "from IPython.display import HTML\n",
    "\n",
    "# time\n",
    "import datetime\n",
    "from cftime import num2date\n",
    "\n",
    "import cmocean  # for nice oceanographic colormaps\n",
    "\n",
    "#JUPYTER notebook magics\n",
    "%matplotlib inline "
   ]
  },
  {
   "cell_type": "code",
   "execution_count": 2,
   "id": "e9700b15-6a6b-4e30-80e0-f41d57a52348",
   "metadata": {},
   "outputs": [
    {
     "name": "stdout",
     "output_type": "stream",
     "text": [
      "\u001b[4m\u001b[1mBBMDynamics\u001b[m\n",
      "\n",
      "\u001b[4mBBMDynamics.C\u001b[m\n",
      "\u001b[3mnumeric\u001b[m    range: -∞—0 [None] (default = -20)\n",
      "The compaction parameter C\n",
      "\n",
      "\u001b[4mBBMDynamics.nu\u001b[m\n",
      "\u001b[3mnumeric\u001b[m    range: -∞—0 [None] (default = 0.333333)\n",
      "Poisson's ratio, 𝜈\n",
      "\n",
      "\u001b[4mBBMDynamics.young\u001b[m\n",
      "\u001b[3mnumeric\u001b[m    range: 0—∞ Pa (default = 5.96e+08)\n",
      "Young's modulus, Y\n",
      "\n",
      "\u001b[4mBBMDynamics.P0\u001b[m\n",
      "\u001b[3mnumeric\u001b[m    range: 0—∞ Pa (default = 10000)\n",
      "Ice strength scaling parameter\n",
      "\n",
      "\u001b[4mBBMDynamics.lambda0\u001b[m\n",
      "\u001b[3mnumeric\u001b[m    range: 0—∞ s (default = 1e+07)\n",
      "Undamaged relaxation time scale\n",
      "\n",
      "\u001b[4mBBMDynamics.alpha\u001b[m\n",
      "\u001b[3mnumeric\u001b[m    range: 2—∞ [None] (default = 5)\n",
      "Damage parameter\n",
      "\n",
      "\u001b[4mBBMDynamics.exppmax\u001b[m\n",
      "\u001b[3mnumeric\u001b[m    range: 0—2 [None] (default = 1.5)\n",
      "Exponent for thickness scaling of P_{max}\n",
      "\n",
      "\u001b[4mBBMDynamics.mu\u001b[m\n",
      "\u001b[3mnumeric\u001b[m    range: 0—1 [None] (default = 1.5)\n",
      "Internal friction coefficient, 𝜇\n",
      "\n",
      "\u001b[4mBBMDynamics.namx\u001b[m\n",
      "\u001b[3mnumeric\u001b[m    range: 0—∞ Pa (default = 1.5)\n",
      "Maximum compressive strength (at the lab scale)\n",
      "\n",
      "\u001b[4mBBMDynamics.clab\u001b[m\n",
      "\u001b[3mnumeric\u001b[m    range: 0—∞ Pa (default = 2e+06)\n",
      "Cohesion (at the lab scale)\n",
      "\n",
      "\u001b[4mBBMDynamics.nsteps\u001b[m\n",
      "\u001b[3mnumeric\u001b[m    range: 1—∞ [No unit] (default = 120)\n",
      "The number of sub-cycling steps\n",
      "\n",
      "\u001b[4mBBMDynamics.rho_ice\u001b[m\n",
      "\u001b[3mnumeric\u001b[m    range: 0—∞ kg/m^3 (default = 900)\n",
      "Density of sea ice\n",
      "\n",
      "\u001b[4mBBMDynamics.rho_atm\u001b[m\n",
      "\u001b[3mnumeric\u001b[m    range: 0—∞ kg/m^3 (default = 1.3)\n",
      "Density of air\n",
      "\n",
      "\u001b[4mBBMDynamics.rho_ocean\u001b[m\n",
      "\u001b[3mnumeric\u001b[m    range: 0—∞ kg/m^3 (default = 1026)\n",
      "Density of ocean\n",
      "\n",
      "\u001b[4mBBMDynamics.drag_atm\u001b[m\n",
      "\u001b[3mnumeric\u001b[m    range: 0—∞ [No unit] (default = 0.0012)\n",
      "Ice-atmosphere drag coefficient\n",
      "\n",
      "\u001b[4mBBMDynamics.drag_ocean\u001b[m\n",
      "\u001b[3mnumeric\u001b[m    range: 0—∞ [No unit] (default = 0.0055)\n",
      "Ice-ocean drag coefficient\n",
      "\n",
      "\u001b[4mBBMDynamics.Coriolis_parameter\u001b[m\n",
      "\u001b[3mnumeric\u001b[m    range: 0—∞ [No unit] (default = 0.000145842)\n",
      "Coriolis parameter (constant across the domain)\n",
      "\n",
      "\u001b[4mBBMDynamics.ocean_turning_angle\u001b[m\n",
      "\u001b[3mnumeric\u001b[m    range: 0—90 degrees (default = 25)\n",
      "Oceanic turning angle\n",
      "\n",
      "\n"
     ]
    }
   ],
   "source": [
    "%%bash\n",
    "\n",
    "# We tune the BBM-dynamics using this module\n",
    "/home/nextsimdg/build/nextsim --help-config BBMDynamics"
   ]
  },
  {
   "cell_type": "code",
   "execution_count": 3,
   "id": "4e92c0de-bcf5-4de1-8b04-d08a12f9ca95",
   "metadata": {
    "editable": true,
    "scrolled": true,
    "slideshow": {
     "slide_type": ""
    },
    "tags": []
   },
   "outputs": [
    {
     "name": "stdout",
     "output_type": "stream",
     "text": [
      "2010-01-01T00:00:00Z\n",
      "2010-01-01T00:20:00Z\n",
      "2010-01-01T00:40:00Z\n",
      "2010-01-01T01:00:00Z\n",
      "2010-01-01T01:20:00Z\n",
      "2010-01-01T01:40:00Z\n",
      "2010-01-01T02:00:00Z\n",
      "2010-01-01T02:20:00Z\n",
      "2010-01-01T02:40:00Z\n",
      "2010-01-01T03:00:00Z\n",
      "2010-01-01T03:20:00Z\n",
      "2010-01-01T03:40:00Z\n",
      "2010-01-01T04:00:00Z\n",
      "2010-01-01T04:20:00Z\n",
      "2010-01-01T04:40:00Z\n",
      "2010-01-01T05:00:00Z\n",
      "2010-01-01T05:20:00Z\n",
      "2010-01-01T05:40:00Z\n",
      "2010-01-01T06:00:00Z\n",
      "2010-01-01T06:20:00Z\n",
      "2010-01-01T06:40:00Z\n",
      "2010-01-01T07:00:00Z\n",
      "2010-01-01T07:20:00Z\n",
      "2010-01-01T07:40:00Z\n",
      "2010-01-01T08:00:00Z\n",
      "2010-01-01T08:20:00Z\n",
      "2010-01-01T08:40:00Z\n",
      "2010-01-01T09:00:00Z\n",
      "2010-01-01T09:20:00Z\n",
      "2010-01-01T09:40:00Z\n",
      "2010-01-01T10:00:00Z\n",
      "2010-01-01T10:20:00Z\n",
      "2010-01-01T10:40:00Z\n",
      "2010-01-01T11:00:00Z\n",
      "2010-01-01T11:20:00Z\n",
      "2010-01-01T11:40:00Z\n",
      "2010-01-01T12:00:00Z\n",
      "2010-01-01T12:20:00Z\n",
      "2010-01-01T12:40:00Z\n",
      "2010-01-01T13:00:00Z\n",
      "2010-01-01T13:20:00Z\n",
      "2010-01-01T13:40:00Z\n",
      "2010-01-01T14:00:00Z\n",
      "2010-01-01T14:20:00Z\n",
      "2010-01-01T14:40:00Z\n",
      "2010-01-01T15:00:00Z\n",
      "2010-01-01T15:20:00Z\n",
      "2010-01-01T15:40:00Z\n",
      "2010-01-01T16:00:00Z\n",
      "2010-01-01T16:20:00Z\n",
      "2010-01-01T16:40:00Z\n",
      "2010-01-01T17:00:00Z\n",
      "2010-01-01T17:20:00Z\n",
      "2010-01-01T17:40:00Z\n",
      "2010-01-01T18:00:00Z\n",
      "2010-01-01T18:20:00Z\n",
      "2010-01-01T18:40:00Z\n",
      "2010-01-01T19:00:00Z\n",
      "2010-01-01T19:20:00Z\n",
      "2010-01-01T19:40:00Z\n",
      "2010-01-01T20:00:00Z\n",
      "2010-01-01T20:20:00Z\n",
      "2010-01-01T20:40:00Z\n",
      "2010-01-01T21:00:00Z\n",
      "2010-01-01T21:20:00Z\n",
      "2010-01-01T21:40:00Z\n",
      "2010-01-01T22:00:00Z\n",
      "2010-01-01T22:20:00Z\n",
      "2010-01-01T22:40:00Z\n",
      "2010-01-01T23:00:00Z\n",
      "2010-01-01T23:20:00Z\n",
      "2010-01-01T23:40:00Z\n",
      "ParaGridIO::closeAllFiles: closing 1 files\n"
     ]
    },
    {
     "name": "stderr",
     "output_type": "stream",
     "text": [
      "\n",
      "real\t1m2.635s\n",
      "user\t9m48.395s\n",
      "sys\t0m1.075s\n"
     ]
    }
   ],
   "source": [
    "%%bash\n",
    "\n",
    "# Run the model with the config file for a realistic run\n",
    "time /home/nextsimdg/build/nextsim --config-file config_files/config_25km_NH.cfg"
   ]
  },
  {
   "cell_type": "code",
   "execution_count": 4,
   "id": "a413fae0-ae62-4edf-ab14-3cc8ceea50c5",
   "metadata": {
    "editable": true,
    "slideshow": {
     "slide_type": ""
    },
    "tags": []
   },
   "outputs": [
    {
     "name": "stdout",
     "output_type": "stream",
     "text": [
      "<xarray.Dataset>\n",
      "Dimensions:       (time: 24, ydim: 121, xdim: 154, dg_comp: 6, yvertex: 122,\n",
      "                   xvertex: 155, ncoords: 2)\n",
      "Coordinates:\n",
      "  * time          (time) float64 1.262e+09 1.262e+09 ... 1.262e+09 1.262e+09\n",
      "Dimensions without coordinates: ydim, xdim, dg_comp, yvertex, xvertex, ncoords\n",
      "Data variables:\n",
      "    cice          (time, ydim, xdim, dg_comp) float64 ...\n",
      "    coords        (yvertex, xvertex, ncoords) float64 ...\n",
      "    damage        (time, ydim, xdim) float64 ...\n",
      "    grid_azimuth  (time, ydim, xdim) float64 ...\n",
      "    hice          (time, ydim, xdim, dg_comp) float64 ...\n",
      "    latitude      (time, ydim, xdim) float64 ...\n",
      "    longitude     (time, ydim, xdim) float64 ...\n",
      "    shear         (time, ydim, xdim) float64 ...\n",
      "    u             (time, ydim, xdim) float64 ...\n",
      "    v             (time, ydim, xdim) float64 ...\n"
     ]
    }
   ],
   "source": [
    "# Load the NetCDF file\n",
    "ds = xr.open_dataset(\"25km_NH.diagnostic.nc\", group=\"/data\")\n",
    "print(ds)\n",
    "\n",
    "# We (still) need to fetch the mask from the init file\n",
    "mask = xr.open_dataset(\"/home/data-nextsim-workshop2025/nextsimdg/demo-realistic/init_25km_NH.nc\", group=\"/data\")['mask']\n",
    "land = np.where(mask == 0, 1, np.nan)  # 1 = land, nan = ocean"
   ]
  },
  {
   "cell_type": "code",
   "execution_count": 5,
   "id": "73c93e53-4cd5-40bd-9680-099f963b84f1",
   "metadata": {},
   "outputs": [],
   "source": [
    "# Create sensible dates to use and pick a time slice to use\n",
    "time = ds['time']\n",
    "time_vals = num2date(time.values, units='seconds since 1970-01-01', calendar='gregorian')\n",
    "\n",
    "time_index = 23"
   ]
  },
  {
   "cell_type": "code",
   "execution_count": 6,
   "id": "42eee892-1d98-493f-9c04-7f3017012d14",
   "metadata": {
    "editable": true,
    "slideshow": {
     "slide_type": ""
    },
    "tags": []
   },
   "outputs": [
    {
     "data": {
      "image/png": "[encoded data removed]",
      "text/plain": [
       "<Figure size 640x480 with 2 Axes>"
      ]
     },
     "metadata": {},
     "output_type": "display_data"
    }
   ],
   "source": [
    "# NB - we need to pick the first DG component, as well as a time slice\n",
    "var = ds['cice'].isel(time=time_index).isel(dg_comp=0)\n",
    "\n",
    "plt.figure()\n",
    "p = plt.pcolormesh(var, shading='auto', cmap='cmo.ice', vmin=0, vmax=1)\n",
    "plt.gca().set_aspect('equal')\n",
    "\n",
    "plt.colorbar(p, label='Sea Ice Concentration', orientation='vertical')\n",
    "\n",
    "plt.pcolormesh(land, shading='auto', cmap='Pastel2', vmin=0, vmax=1)\n",
    "\n",
    "plt.title(f\"Short model run at {time_vals[time_index].isoformat()}\")\n",
    "\n",
    "plt.xticks([])\n",
    "plt.yticks([])\n",
    "plt.show()"
   ]
  },
  {
   "cell_type": "code",
   "execution_count": 7,
   "id": "75e3d6c1-8a3c-4bad-a578-8884f13a0192",
   "metadata": {},
   "outputs": [
    {
     "data": {
      "image/png": "[encoded data removed]",
      "text/plain": [
       "<Figure size 640x480 with 2 Axes>"
      ]
     },
     "metadata": {},
     "output_type": "display_data"
    }
   ],
   "source": [
    "var = ds['shear'].isel(time=time_index) * 24*3600\n",
    "\n",
    "plt.figure()\n",
    "p = plt.pcolormesh(var, shading='auto', cmap='viridis', vmin=0, vmax=0.5)\n",
    "plt.gca().set_aspect('equal')\n",
    "plt.colorbar(p, label='Instantanious shear [1/day]', orientation='vertical')\n",
    "\n",
    "plt.pcolormesh(land, shading='auto', cmap='Pastel2', vmin=0, vmax=1)\n",
    "\n",
    "plt.title(f\"Short model run at {time_vals[time_index].isoformat()}\")\n",
    "\n",
    "plt.xticks([])\n",
    "plt.yticks([])\n",
    "plt.show()"
   ]
  },
  {
   "cell_type": "code",
   "execution_count": 8,
   "id": "0eb8dc66-121d-4130-99d9-49bd74eb9ac6",
   "metadata": {
    "editable": true,
    "slideshow": {
     "slide_type": ""
    },
    "tags": []
   },
   "outputs": [
    {
     "data": {
      "image/png": "[encoded data removed]",
      "text/plain": [
       "<Figure size 640x480 with 2 Axes>"
      ]
     },
     "metadata": {},
     "output_type": "display_data"
    }
   ],
   "source": [
    "var = ds['damage'].isel(time=time_index)\n",
    "\n",
    "plt.figure()\n",
    "p = plt.pcolormesh(var, shading='auto', cmap='gist_stern', vmin=0, vmax=0.2)\n",
    "plt.gca().set_aspect('equal')\n",
    "plt.colorbar(p, label='Damage', orientation='vertical')\n",
    "\n",
    "plt.pcolormesh(land, shading='auto', cmap='Pastel2', vmin=0, vmax=1)\n",
    "\n",
    "plt.title(f\"Short model run at {time_vals[time_index].isoformat()}\")\n",
    "\n",
    "plt.xticks([])\n",
    "plt.yticks([])\n",
    "plt.show()"
   ]
  },
  {
   "cell_type": "code",
   "execution_count": 9,
   "id": "0f902520-39e2-43bb-b168-b945e0c3e6af",
   "metadata": {},
   "outputs": [],
   "source": [
    "ds.close()"
   ]
  }
 ],
 "metadata": {
  "kernelspec": {
   "display_name": "Python 3 (ipykernel)",
   "language": "python",
   "name": "python3"
  },
  "language_info": {
   "codemirror_mode": {
    "name": "ipython",
    "version": 3
   },
   "file_extension": ".py",
   "mimetype": "text/x-python",
   "name": "python",
   "nbconvert_exporter": "python",
   "pygments_lexer": "ipython3",
   "version": "3.11.9"
  }
 },
 "nbformat": 4,
 "nbformat_minor": 5
}
