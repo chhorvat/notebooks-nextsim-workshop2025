{
 "cells": [
  {
   "cell_type": "markdown",
   "id": "b8e637a8-0556-4783-b0d5-4139db7b1526",
   "metadata": {},
   "source": [
    "_2025 SASIP Workshop_\n",
    "\n",
    "Introduction and demonstration session:\n",
    "\n",
    "## Introduction to neXtSIM and use cases\n",
    "Einar Ólason (NERSC, Bergen, Norway)\n",
    "\n",
    "### What we will do in this demo session:\n",
    "After a general introduction to neXtSIM, we will explore three use cases of the discontinuous Galerkin-based code under development.\n",
    "\n",
    "### Single column thermodynamics\n",
    "This [use case](demo-thermo.ipynb) runs the model in a single-column mode with only thermodynamics activated. It runs very fast, so the setup can be used to explore changes in seasonality due to changes in forcing, snowload, etc. It can also be used to develop new parameterisations for the column physics (see the [session on developing new parameterisations](../nextsim-param/README.md)).\n",
    "\n",
    "#### Suggested reading:\n",
    "\n",
    "Maykut, G. A., & Untersteiner, N. (1971). Some results from a time-dependent thermodynamic model of sea ice. Journal of Geophysical Research, 76(C6), 1550–1575. [10.1029/jc076i006p01550](https://doi.org/10.1029/jc076i006p01550)\n",
    "\n",
    "Semtner, A. J. (1976). A model for the thermodynamic growth of sea ice in numerical investigations of climate. Journal of Physical Oceanography, 6(3), 379–389. [10.1175/1520-0485(1976)006<0379:AMFTTG>2.0.CO;2](https://doi.org/10.1175/1520-0485(1976)006<0379:AMFTTG>2.0.CO;2)\n",
    "\n",
    "Winton, M. (2000). A reformulated three-layer sea ice model. Journal of Atmospheric and Oceanic Technology, 17(4), 525–531. [10.1175/1520-0426(2000)017<0525:ARTLSI>2.0.CO;2](https://doi.org/10.1175/1520-0426(2000)017<0525:ARTLSI>2.0.CO;2)\n",
    "\n",
    "\n",
    "### Idealised polynya\n",
    "This [case](demo-polynya.ipynb) simulates a polynya forming in a semi-enclosed basin. Constant wind pushes the ice towards the shore on one side and out of the domain, opening up a coastal polynya upwind. This setup can be used to explore ice formation in open water and to develop new parameterisations for this (as we will demonstrate in the [session on developing new parameterisations](../nextsim-param/README.md)).\n",
    "\n",
    "#### Suggested reading:\n",
    "\n",
    "Bjornsson, H., Willmott, A. J., Mysak, L. A., & Morales Maqueda, M. A. (2001). Polynyas in a high-resolution dynamic–thermodynamic sea ice model and their parameterization using flux models. Tellus A: Dynamic Meteorology and Oceanography, 53(2), 245–265. [10.3402/tellusa.v53i2.12184](https://doi.org/10.3402/tellusa.v53i2.12184)\n",
    "\n",
    "Ólason, E. Ö., & Harms, I. (2010). Polynyas in a dynamic-thermodynamic sea-ice model. The Cryosphere, 4(2), 147–160. [10.5194/tc-4-147-2010](https://doi.org/10.5194/tc-4-147-2010)\n",
    "\n",
    "### Realistic 25 km resolution setup\n",
    "This [case](demo-realistic.ipynb) demonstrates the model running in a realistic setup at medium resolution. We include it mainly for demonstration purposes, but it clearly shows areas of high deformation forming as weather systems pass over the Arctic. Despite the coarse resolution, we can identify localised bands of high shear, similar to previously published results.\n",
    "\n",
    "### Suggested reading:\n",
    "\n",
    "Ólason, E., Boutin, G., Korosov, A., Rampal, P., Williams, T., Kimmritz, M., et al. (2022). A new brittle rheology and numerical framework for large-scale sea-ice models. Journal of Advances in Modeling Earth Systems, 14(8). [10.1029/2021ms002685](https://doi.org/10.1029/2021ms002685)\n",
    "\n",
    "\n"
   ]
  },
  {
   "cell_type": "code",
   "execution_count": null,
   "id": "6f924a12-5011-479a-9f3b-7f5488c48994",
   "metadata": {},
   "outputs": [],
   "source": []
  }
 ],
 "metadata": {
  "kernelspec": {
   "display_name": "Python 3 (ipykernel)",
   "language": "python",
   "name": "python3"
  },
  "language_info": {
   "codemirror_mode": {
    "name": "ipython",
    "version": 3
   },
   "file_extension": ".py",
   "mimetype": "text/x-python",
   "name": "python",
   "nbconvert_exporter": "python",
   "pygments_lexer": "ipython3",
   "version": "3.11.9"
  }
 },
 "nbformat": 4,
 "nbformat_minor": 5
}
