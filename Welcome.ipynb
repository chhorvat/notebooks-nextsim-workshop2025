{
 "cells": [
  {
   "cell_type": "markdown",
   "id": "2e1ccc03-1dd2-47f6-9ffd-af1d7b7dfa7a",
   "metadata": {},
   "source": [
    "# Material for the nextsim workshop\n",
    "\n",
    "This repo contains the material that will be displayed during neXtSIM workshop taking place in Brown University, Providence, 2025 June 26-27.\n",
    "Click on the link to access the notebook corresponding to the session :\n",
    "\n",
    "## Program\n",
    "\n",
    "  - [Introduction to neXtSIM and use cases](nextsimdg/README.ipynb) - Einar Olason\n",
    "  - [Data assimilation in neXtSIM with NEDAS](assimilation/demo-osse.ipynb) - Yue (Michael) Ying, Ali Aydogdu, Yumeng Chen\n",
    "  - [Data exploration: Antarctic neXtSIM](antarctic/README.ipynb) - Christopher Horvat\n",
    "  - [Data exploration: wave-ice coupled neXtSIM-WW3](ww3-nextsim/tutorial_ww3-nextsim.ipynb) - Guillaume Boutin\n",
    "  - [Data exploration: kilometer-scale sea-ice-ocean coupled simulations with a brittle rheology](hires-bbm/README.ipynb) - Stephanie Leroux\n",
    "  - [neXtSIM: structure and design principles](nextsim-structure/README.ipynb) - Timothy Spain\n",
    "  - [Use cases run on GPU](nextsimdg-gpu/README.ipynb) - Robert Jendersie\n",
    "  - [How to implement a new parameterization in neXtSIM](nextsim-param/README.ipynb) - Timothy Spain\n",
    "\n"
   ]
  }
 ],
 "metadata": {
  "kernelspec": {
   "display_name": "Python 3 (ipykernel)",
   "language": "python",
   "name": "python3"
  },
  "language_info": {
   "codemirror_mode": {
    "name": "ipython",
    "version": 3
   },
   "file_extension": ".py",
   "mimetype": "text/x-python",
   "name": "python",
   "nbconvert_exporter": "python",
   "pygments_lexer": "ipython3",
   "version": "3.11.9"
  }
 },
 "nbformat": 4,
 "nbformat_minor": 5
}
